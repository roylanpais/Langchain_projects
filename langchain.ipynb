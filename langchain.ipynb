{
 "cells": [
  {
   "cell_type": "code",
   "execution_count": 107,
   "metadata": {},
   "outputs": [],
   "source": [
    "import getpass\n",
    "from langchain import HuggingFaceHub\n",
    "import os\n",
    "from dotenv import load_dotenv\n",
    "\n",
    "from pathlib import Path\n",
    "dotenv_path = Path('D:\\Coding\\langchain gen ai\\langchain_projects\\Langchain_projects\\.env')\n",
    "load_dotenv(dotenv_path=dotenv_path)\n",
    "\n",
    "GOOGLE_API_KEY = os.getenv('GOOGLE_API_KEY')\n",
    "HUGGINGFACEHUB_API_TOKEN = os.getenv('HUGGINGFACEHUB_API_TOKEN')\n",
    "ANTHROPIC_API_KEY = os.getenv('Anthropic_API_KEY')\n",
    "GROQ_API_KEY = os.getenv('groq_api_key')"
   ]
  },
  {
   "cell_type": "code",
   "execution_count": 15,
   "metadata": {},
   "outputs": [],
   "source": [
    "# if \"GOOGLE_API_KEY\" not in os.environ:\n",
    "#     os.environ[\"GOOGLE_API_KEY\"] = getpass.getpass(\"Provide your Google API Key\")\n",
    "# if \"HUGGINGFACEHUB_API_TOKEN\" not in os.environ:\n",
    "#     os.environ[\"HUGGINGFACEHUB_API_TOKEN\"] = getpass.getpass(\"Provide your HUGGINGFACE_API_TOKEN\")"
   ]
  },
  {
   "cell_type": "code",
   "execution_count": 49,
   "metadata": {},
   "outputs": [],
   "source": [
    "llm_hf = HuggingFaceHub(repo_id = \"google/flan-t5-large\", model_kwargs = {\"temperature\": 2, \"max_length\": 50})"
   ]
  },
  {
   "cell_type": "code",
   "execution_count": 50,
   "metadata": {},
   "outputs": [
    {
     "name": "stdout",
     "output_type": "stream",
     "text": [
      "Sentence: Then he sat down and ate a piece of apple. Then he sat down and ate a piece of apple. Then he sat down and ate\n"
     ]
    }
   ],
   "source": [
    "output= llm_hf.invoke(\"can you give me sentences that end with apple\")\n",
    "print(output)"
   ]
  },
  {
   "cell_type": "markdown",
   "metadata": {},
   "source": [
    "# Promt templates\n"
   ]
  },
  {
   "cell_type": "code",
   "execution_count": 51,
   "metadata": {},
   "outputs": [],
   "source": [
    "from langchain.prompts import PromptTemplate"
   ]
  },
  {
   "cell_type": "code",
   "execution_count": 52,
   "metadata": {},
   "outputs": [],
   "source": [
    "prompt = PromptTemplate(input_variables = [\"country\"], \n",
    "                                 template = \"Tell me the capital of {country}\")"
   ]
  },
  {
   "cell_type": "code",
   "execution_count": 55,
   "metadata": {},
   "outputs": [
    {
     "data": {
      "text/plain": [
       "'detroit'"
      ]
     },
     "execution_count": 55,
     "metadata": {},
     "output_type": "execute_result"
    }
   ],
   "source": [
    "chain = prompt | llm_hf\n",
    "chain.invoke(\"USA\")"
   ]
  },
  {
   "cell_type": "markdown",
   "metadata": {},
   "source": [
    "### Combining multiple chains usig seq chains"
   ]
  },
  {
   "cell_type": "code",
   "execution_count": null,
   "metadata": {},
   "outputs": [],
   "source": [
    "from langchain.schema.runnable import RunnablePassthrough"
   ]
  },
  {
   "cell_type": "code",
   "execution_count": 63,
   "metadata": {},
   "outputs": [],
   "source": [
    "capital_prompt = PromptTemplate(input_variables=[\"country\"],\n",
    "                             template = \"Please provide capital of the {country}\")\n",
    "adventure_prompt = PromptTemplate(input_variables=[\"capital\"],\n",
    "                             template = \"Please provide some adventurous places of the {capital}\")\n",
    "capital_chain = capital_prompt | llm_hf\n",
    "adventure_chain = adventure_prompt | llm_hf\n",
    "\n",
    "chain = ({\"capital\" : capital_chain} \n",
    "        | RunnablePassthrough.assign(optimization=adventure_chain))\n",
    "\n",
    "result = chain.invoke({\"india\"})"
   ]
  },
  {
   "cell_type": "code",
   "execution_count": 81,
   "metadata": {},
   "outputs": [
    {
     "data": {
      "text/plain": [
       "{'capital': 'chennai', 'review': 'Theme Parks'}"
      ]
     },
     "execution_count": 81,
     "metadata": {},
     "output_type": "execute_result"
    }
   ],
   "source": [
    "capital_prompt = PromptTemplate(input_variables=[\"country\"],\n",
    "                             template = \"Please provide capital of the {country}\")\n",
    "famous_prompt = PromptTemplate(input_variables=[\"capital\"],\n",
    "                             template = \"write 5 famous places in {capital}\")\n",
    "capital_chain = capital_prompt | llm_hf\n",
    "famous_chain = adventure_prompt | llm_hf\n",
    "chain = ({\"capital\" : capital_chain} \n",
    "        | RunnablePassthrough.assign(review=famous_chain))\n",
    "\n",
    "result = chain.invoke({\"country\": 'India'})\n",
    "result"
   ]
  },
  {
   "cell_type": "markdown",
   "metadata": {},
   "source": [
    "## Sequential chains with LCEL\n"
   ]
  },
  {
   "cell_type": "code",
   "execution_count": 85,
   "metadata": {},
   "outputs": [
    {
     "data": {
      "text/plain": [
       "'Theme Parks'"
      ]
     },
     "execution_count": 85,
     "metadata": {},
     "output_type": "execute_result"
    }
   ],
   "source": [
    "combined_chain = capital_chain | famous_chain\n",
    "combined_chain.invoke({'country':'India'})"
   ]
  },
  {
   "cell_type": "markdown",
   "metadata": {},
   "source": [
    "# chatmodels with Anthropic"
   ]
  },
  {
   "cell_type": "code",
   "execution_count": 94,
   "metadata": {},
   "outputs": [],
   "source": [
    "from langchain.schema import HumanMessage, SystemMessage, AIMessage\n",
    "from langchain_anthropic import ChatAnthropic"
   ]
  },
  {
   "cell_type": "code",
   "execution_count": 101,
   "metadata": {},
   "outputs": [],
   "source": [
    "chatllm = ChatAnthropic(\n",
    "    model=\"claude-3-sonnet-20240229\",\n",
    "    # model='claude-2.1',\n",
    "    temperature=0,\n",
    "    max_tokens=110,\n",
    "    timeout=None,\n",
    "    # max_retries=2,\n",
    "    # other params...\n",
    ")"
   ]
  },
  {
   "cell_type": "code",
   "execution_count": null,
   "metadata": {},
   "outputs": [],
   "source": [
    "chatllm([\n",
    "    SystemMessage(content=\"You are a Life Science expert\"),\n",
    "    HumanMessage(content = \"Please provide me some expert opinion on cancer\")\n",
    "])"
   ]
  },
  {
   "cell_type": "markdown",
   "metadata": {},
   "source": [
    "# chatmodels with Groq"
   ]
  },
  {
   "cell_type": "code",
   "execution_count": 117,
   "metadata": {},
   "outputs": [],
   "source": [
    "from langchain_groq import ChatGroq\n",
    "from langchain.schema import HumanMessage, SystemMessage, AIMessage"
   ]
  },
  {
   "cell_type": "code",
   "execution_count": 120,
   "metadata": {},
   "outputs": [],
   "source": [
    "chat_groq = ChatGroq(\n",
    "    temperature=0,\n",
    "    model=\"llama3-70b-8192\",\n",
    "    # api_key=\"\" # Optional if not set as an environment variable\n",
    ")"
   ]
  },
  {
   "cell_type": "code",
   "execution_count": 121,
   "metadata": {},
   "outputs": [
    {
     "data": {
      "text/plain": [
       "AIMessage(content=\"As a Life Science expert, I'd be happy to provide some insights on cancer.\\n\\n**What is Cancer?**\\n\\nCancer is a complex and multifaceted disease characterized by the uncontrolled growth and spread of abnormal cells. It can affect any part of the body and is caused by a combination of genetic and environmental factors.\\n\\n**Types of Cancer**\\n\\nThere are over 100 different types of cancer, each with its unique characteristics and behaviors. Some of the most common types of cancer include:\\n\\n1. Carcinomas: These are the most common type of cancer and arise from epithelial cells, which are the cells that line the surfaces of organs and glands. Examples include breast cancer, lung cancer, and colon cancer.\\n2. Sarcomas: These are cancers that arise from connective tissue cells, such as bone, cartilage, and fat. Examples include osteosarcoma (bone cancer) and leiomyosarcoma (smooth muscle cancer).\\n3. Leukemias: These are cancers of the blood and bone marrow. Examples include acute myeloid leukemia (AML) and chronic lymphocytic leukemia (CLL).\\n4. Lymphomas: These are cancers of the immune system and can arise from cells in the lymph nodes, spleen, or other lymphoid tissues. Examples include Hodgkin lymphoma and non-Hodgkin lymphoma.\\n\\n**Causes of Cancer**\\n\\nCancer is a multifactorial disease, and its causes can be broadly classified into two categories: genetic and environmental.\\n\\n**Genetic Factors:**\\n\\n1. Inherited mutations: Some people are born with genetic mutations that increase their risk of developing cancer.\\n2. Acquired mutations: Genetic mutations can occur spontaneously or as a result of environmental exposures.\\n\\n**Environmental Factors:**\\n\\n1. Tobacco smoke: Tobacco smoke contains over 70 known carcinogens, making it a significant risk factor for lung cancer and other types of cancer.\\n2. Radiation: Exposure to ionizing radiation, such as UV radiation and medical radiation, can increase the risk of cancer.\\n3. Viruses and bacteria: Certain viruses and bacteria, such as human papillomavirus (HPV) and Helicobacter pylori, can increase the risk of cancer.\\n4. Chemicals: Exposure to certain chemicals, such as asbestos and benzene, can increase the risk of cancer.\\n\\n**Symptoms of Cancer**\\n\\nThe symptoms of cancer vary depending on the type and location of the cancer. Some common symptoms include:\\n\\n1. Unexplained weight loss\\n2. Fatigue\\n3. Pain\\n4. Skin changes, such as moles or lesions\\n5. Changes in bowel or bladder habits\\n6. Unusual bleeding or discharge\\n\\n**Diagnosis and Treatment of Cancer**\\n\\nCancer diagnosis typically involves a combination of imaging tests, such as X-rays and CT scans, and laboratory tests, such as biopsies and blood tests. Treatment options depend on the type and stage of cancer, as well as the patient's overall health. Common treatments include:\\n\\n1. Surgery: Removing the tumor and surrounding tissue.\\n2. Chemotherapy: Using drugs to kill cancer cells.\\n3. Radiation therapy: Using high-energy radiation to kill cancer cells.\\n4. Targeted therapy: Using drugs that target specific molecules involved in cancer growth and progression.\\n5. Immunotherapy: Using the body's immune system to fight cancer.\\n\\n**Current Research and Future Directions**\\n\\nCancer research is a rapidly evolving field, with new discoveries and advancements being made regularly. Some of the most promising areas of research include:\\n\\n1. Immunotherapy: Researchers are exploring new ways to harness the power of the immune system to fight cancer.\\n2. Precision medicine: Researchers are working to develop targeted therapies that are tailored to individual patients' genetic profiles.\\n3. Cancer stem cells: Researchers are studying the role of cancer stem cells in cancer development and progression.\\n4. Liquid biopsies: Researchers are developing non-invasive tests that can detect cancer biomarkers in blood or other bodily fluids.\\n\\nI hope this provides a comprehensive overview of cancer! Do you have any specific questions or topics you'd like me to expand on?\", response_metadata={'token_usage': {'completion_tokens': 833, 'prompt_tokens': 29, 'total_tokens': 862, 'completion_time': 2.323223311, 'prompt_time': 0.007169474, 'queue_time': None, 'total_time': 2.330392785}, 'model_name': 'llama3-70b-8192', 'system_fingerprint': 'fp_2f30b0b571', 'finish_reason': 'stop', 'logprobs': None}, id='run-6a329790-c7c7-4946-8d34-6d73e5599cec-0')"
      ]
     },
     "execution_count": 121,
     "metadata": {},
     "output_type": "execute_result"
    }
   ],
   "source": [
    "chat_groq([\n",
    "    SystemMessage(content=\"You are a Life Science expert\"),\n",
    "    HumanMessage(content = \"Please provide me some expert opinion on cancer\")\n",
    "\n",
    "])"
   ]
  },
  {
   "cell_type": "markdown",
   "metadata": {},
   "source": [
    "## Chat Prompt template with Groq"
   ]
  },
  {
   "cell_type": "code",
   "execution_count": 122,
   "metadata": {},
   "outputs": [],
   "source": [
    "from langchain_core.prompts import ChatPromptTemplate\n",
    "from langchain_groq import ChatGroq"
   ]
  },
  {
   "cell_type": "code",
   "execution_count": null,
   "metadata": {},
   "outputs": [],
   "source": [
    "system = \"You are a Life Science expert.\"\n",
    "human = \"{text}\"\n",
    "prompt = ChatPromptTemplate.from_messages([(\"system\", system), (\"human\", human)])\n",
    "\n",
    "chain = prompt | chat\n",
    "chain.invoke({\"text\": \"Please provide me some expert opinion on cancer.\"})"
   ]
  },
  {
   "cell_type": "markdown",
   "metadata": {},
   "source": [
    "# Chat with Ouput parsers"
   ]
  },
  {
   "cell_type": "code",
   "execution_count": 126,
   "metadata": {},
   "outputs": [],
   "source": [
    "from langchain_groq import ChatGroq\n",
    "from langchain.schema import BaseOutputParser\n",
    "from langchain_core.prompts import ChatPromptTemplate\n"
   ]
  },
  {
   "cell_type": "code",
   "execution_count": null,
   "metadata": {},
   "outputs": [],
   "source": [
    "class commaseperatedoutput(BaseOutputParser):\n",
    "    def parse(self, text:str):\n",
    "        return text.strip().split(\",\")"
   ]
  },
  {
   "cell_type": "code",
   "execution_count": 129,
   "metadata": {},
   "outputs": [
    {
     "data": {
      "text/plain": [
       "ChatPromptTemplate(input_variables=['text'], messages=[SystemMessagePromptTemplate(prompt=PromptTemplate(input_variables=[], template='You are a healthcare expert. When the user gives any input you provide 5 related diseases seperated by comma')), HumanMessagePromptTemplate(prompt=PromptTemplate(input_variables=['text'], template='{text}'))])"
      ]
     },
     "execution_count": 129,
     "metadata": {},
     "output_type": "execute_result"
    }
   ],
   "source": [
    "system_template = \"You are a healthcare expert. When the user gives any input you provide 5 related diseases seperated by comma\"\n",
    "human_template = \"{text}\"\n",
    "chatprompt = ChatPromptTemplate.from_messages([\n",
    "    (\"system\", system_template),\n",
    "    (\"human\", human_template)\n",
    "])\n",
    "chatprompt"
   ]
  },
  {
   "cell_type": "code",
   "execution_count": null,
   "metadata": {},
   "outputs": [],
   "source": [
    "chat_groq = ChatGroq(\n",
    "    temperature=0,\n",
    "    model=\"llama3-70b-8192\",\n",
    "    # api_key=\"\" # Optional if not set as an environment variable\n",
    ")"
   ]
  },
  {
   "cell_type": "code",
   "execution_count": null,
   "metadata": {},
   "outputs": [],
   "source": [
    "chat_groq"
   ]
  }
 ],
 "metadata": {
  "kernelspec": {
   "display_name": "langchain",
   "language": "python",
   "name": "python3"
  },
  "language_info": {
   "codemirror_mode": {
    "name": "ipython",
    "version": 3
   },
   "file_extension": ".py",
   "mimetype": "text/x-python",
   "name": "python",
   "nbconvert_exporter": "python",
   "pygments_lexer": "ipython3",
   "version": "3.10.14"
  }
 },
 "nbformat": 4,
 "nbformat_minor": 2
}
